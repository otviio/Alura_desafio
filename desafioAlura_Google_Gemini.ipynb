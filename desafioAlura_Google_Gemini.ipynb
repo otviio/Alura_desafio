{
  "nbformat": 4,
  "nbformat_minor": 0,
  "metadata": {
    "colab": {
      "provenance": [],
      "mount_file_id": "1wje2wRG2dTf5YS-X79T2SgaPIM5p6vZE",
      "authorship_tag": "ABX9TyMpvEozd4yQ5UgEzAu2PkDl",
      "include_colab_link": true
    },
    "kernelspec": {
      "name": "python3",
      "display_name": "Python 3"
    },
    "language_info": {
      "name": "python"
    }
  },
  "cells": [
    {
      "cell_type": "markdown",
      "metadata": {
        "id": "view-in-github",
        "colab_type": "text"
      },
      "source": [
        "<a href=\"https://colab.research.google.com/github/otviio/Alura_desafio/blob/main/desafioAlura_Google_Gemini.ipynb\" target=\"_parent\"><img src=\"https://colab.research.google.com/assets/colab-badge.svg\" alt=\"Open In Colab\"/></a>"
      ]
    },
    {
      "cell_type": "markdown",
      "source": [
        "# O desafio tem o intuito de testar a capacidade do Gemini identificar elementos dentro de um determinado vídeo.\n",
        "\n",
        "Vídeo esse que é um que eu mesmo gravei fazendo tarefas no jogo Stardew Valley, um jogo que atualmente estou jogando muito. Daí pensei, por que não testar a capacidade do Gemini de analizar vídeos e pedir para descrever o que está acontecendo."
      ],
      "metadata": {
        "id": "9CovVE1TYpJ7"
      }
    },
    {
      "cell_type": "markdown",
      "source": [
        "Instalando o SDK do Gemini"
      ],
      "metadata": {
        "id": "1W6EDDIOZwBa"
      }
    },
    {
      "cell_type": "code",
      "execution_count": 1,
      "metadata": {
        "id": "xZWW4CM_V-PH"
      },
      "outputs": [],
      "source": [
        "!pip install -U -q google-generativeai"
      ]
    },
    {
      "cell_type": "markdown",
      "source": [
        "Importando o generative AI"
      ],
      "metadata": {
        "id": "NMcoq1o6aAXa"
      }
    },
    {
      "cell_type": "code",
      "source": [
        "import google.generativeai as genai"
      ],
      "metadata": {
        "id": "_ISO3IujWEfe"
      },
      "execution_count": 2,
      "outputs": []
    },
    {
      "cell_type": "markdown",
      "source": [
        "Configurando a API Key do google"
      ],
      "metadata": {
        "id": "rRvum81BaHnJ"
      }
    },
    {
      "cell_type": "code",
      "source": [
        "from google.colab import userdata\n",
        "\n",
        "key=userdata.get('SECRET')\n",
        "genai.configure(api_key=key)"
      ],
      "metadata": {
        "id": "Qo5T_KSUWLH-"
      },
      "execution_count": 3,
      "outputs": []
    },
    {
      "cell_type": "markdown",
      "source": [
        "## Salvando o video em uma variável."
      ],
      "metadata": {
        "id": "DWAmfdFoaMJS"
      }
    },
    {
      "cell_type": "markdown",
      "source": [
        "Veja o video [aqui](https://drive.google.com/file/d/1zHzt1t2OjZjkCsb4u22ttRSVup853xaP/view?usp=drive_link)."
      ],
      "metadata": {
        "id": "g5E8o0rMd7oZ"
      }
    },
    {
      "cell_type": "code",
      "source": [
        "video_file_name = \"/content/drive/MyDrive/AluraDesafio/video01.mp4\""
      ],
      "metadata": {
        "id": "rK5_coBUWTUl"
      },
      "execution_count": 4,
      "outputs": []
    },
    {
      "cell_type": "markdown",
      "source": [
        "## É aqui onde tudo começa."
      ],
      "metadata": {
        "id": "8Wo51QvIagGZ"
      }
    },
    {
      "cell_type": "markdown",
      "source": [
        "Como a API Gemini atualmente não oferece suporte direto a arquivos de vídeo. Em vez disso, podemos fornecer uma série de timestamps e arquivos de imagem.\n",
        "\n",
        "---\n",
        "\n",
        "\n",
        "Neste código fornecido pelo github do Google Gemini, [cookbook](https://github.com/google-gemini/cookbook/blob/main/quickstarts/Video.ipynb), ele extrai o video em imagens (1 frame por segundo) para uma pasta do meu drive chamada frames. Dando 61 frames na extração."
      ],
      "metadata": {
        "id": "31PyrO-bdy7h"
      }
    },
    {
      "cell_type": "code",
      "source": [
        "import cv2\n",
        "import os\n",
        "import shutil\n",
        "\n",
        "# Create or cleanup existing extracted image frames directory.\n",
        "FRAME_EXTRACTION_DIRECTORY = \"/content/drive/MyDrive/AluraDesafio/frames\"\n",
        "FRAME_PREFIX = \"_frame\"\n",
        "def create_frame_output_dir(output_dir):\n",
        "  if not os.path.exists(output_dir):\n",
        "    os.makedirs(output_dir)\n",
        "  else:\n",
        "    shutil.rmtree(output_dir)\n",
        "    os.makedirs(output_dir)\n",
        "\n",
        "def extract_frame_from_video(video_file_path):\n",
        "  print(f\"Extracting {video_file_path} at 1 frame per second. This might take a bit...\")\n",
        "  create_frame_output_dir(FRAME_EXTRACTION_DIRECTORY)\n",
        "  vidcap = cv2.VideoCapture(video_file_path)\n",
        "  fps = vidcap.get(cv2.CAP_PROP_FPS)\n",
        "  frame_duration = 1 / fps  # Time interval between frames (in seconds)\n",
        "  output_file_prefix = os.path.basename(video_file_path).replace('.', '_')\n",
        "  frame_count = 0\n",
        "  count = 0\n",
        "  while vidcap.isOpened():\n",
        "      success, frame = vidcap.read()\n",
        "      if not success: # End of video\n",
        "          break\n",
        "      if int(count / fps) == frame_count: # Extract a frame every second\n",
        "          min = frame_count // 60\n",
        "          sec = frame_count % 60\n",
        "          time_string = f\"{min:02d}:{sec:02d}\"\n",
        "          image_name = f\"{output_file_prefix}{FRAME_PREFIX}{time_string}.jpg\"\n",
        "          output_filename = os.path.join(FRAME_EXTRACTION_DIRECTORY, image_name)\n",
        "          cv2.imwrite(output_filename, frame)\n",
        "          frame_count += 1\n",
        "      count += 1\n",
        "  vidcap.release() # Release the capture object\\n\",\n",
        "  print(f\"Completed video frame extraction!\\n\\nExtracted: {frame_count} frames\")\n",
        "\n",
        "extract_frame_from_video(video_file_name)"
      ],
      "metadata": {
        "colab": {
          "base_uri": "https://localhost:8080/"
        },
        "collapsed": true,
        "id": "V5f24xexWaAg",
        "outputId": "7338a142-62d0-4b24-bd91-48bfb245c4fb"
      },
      "execution_count": 5,
      "outputs": [
        {
          "output_type": "stream",
          "name": "stdout",
          "text": [
            "Extracting /content/drive/MyDrive/AluraDesafio/video01.mp4 at 1 frame per second. This might take a bit...\n",
            "Completed video frame extraction!\n",
            "\n",
            "Extracted: 61 frames\n"
          ]
        }
      ]
    },
    {
      "cell_type": "markdown",
      "source": [
        "## Neste código, ele faz o upload dos frames para a API."
      ],
      "metadata": {
        "id": "pXxXYGDybc2C"
      }
    },
    {
      "cell_type": "markdown",
      "source": [
        "No código original ele faz upload de 10 dos 600 frames da extração, como temos poucos frames (e também para melhorar a resposta do Gemini um pouco) eu coloquei para fazer upload de todos os arquivos."
      ],
      "metadata": {
        "id": "BvXBl9hBdqzB"
      }
    },
    {
      "cell_type": "code",
      "source": [
        "import os\n",
        "\n",
        "class File:\n",
        "  def __init__(self, file_path: str, display_name: str = None):\n",
        "    self.file_path = file_path\n",
        "    if display_name:\n",
        "      self.display_name = display_name\n",
        "    self.timestamp = get_timestamp(file_path)\n",
        "\n",
        "  def set_file_response(self, response):\n",
        "    self.response = response\n",
        "\n",
        "def get_timestamp(filename):\n",
        "  \"\"\"Extracts the frame count (as an integer) from a filename with the format\n",
        "     'output_file_prefix_frame00:00.jpg'.\n",
        "  \"\"\"\n",
        "  parts = filename.split(FRAME_PREFIX)\n",
        "  if len(parts) != 2:\n",
        "    return None  # Indicates the filename might be incorrectly formatted\n",
        "  return parts[1].split('.')[0]\n",
        "\n",
        "# Process each frame in the output directory\n",
        "files = os.listdir(FRAME_EXTRACTION_DIRECTORY)\n",
        "files = sorted(files)\n",
        "files_to_upload = []\n",
        "for file in files:\n",
        "  files_to_upload.append(\n",
        "      File(file_path=os.path.join(FRAME_EXTRACTION_DIRECTORY, file)))\n",
        "\n",
        "# Upload the files to the API\n",
        "# Set full_video to True to upload the whole video\n",
        "full_video = True\n",
        "\n",
        "uploaded_files = []\n",
        "print(f'Uploading {len(files_to_upload)} files. This might take a bit...')\n",
        "\n",
        "for file in files_to_upload if full_video else files_to_upload[40:50]:\n",
        "  print(f'Uploading: {file.file_path}...')\n",
        "  response = genai.upload_file(path=file.file_path)\n",
        "  file.set_file_response(response)\n",
        "  uploaded_files.append(file)\n",
        "\n",
        "print(f\"Completed file uploads!\\n\\nUploaded: {len(uploaded_files)} files\")"
      ],
      "metadata": {
        "colab": {
          "base_uri": "https://localhost:8080/"
        },
        "collapsed": true,
        "id": "pcOCJOogWpfh",
        "outputId": "71dcd8d4-c5c5-43dd-af8c-336dee65c4e2"
      },
      "execution_count": 6,
      "outputs": [
        {
          "output_type": "stream",
          "name": "stdout",
          "text": [
            "Uploading 61 files. This might take a bit...\n",
            "Uploading: /content/drive/MyDrive/AluraDesafio/frames/video01_mp4_frame00:00.jpg...\n",
            "Uploading: /content/drive/MyDrive/AluraDesafio/frames/video01_mp4_frame00:01.jpg...\n",
            "Uploading: /content/drive/MyDrive/AluraDesafio/frames/video01_mp4_frame00:02.jpg...\n",
            "Uploading: /content/drive/MyDrive/AluraDesafio/frames/video01_mp4_frame00:03.jpg...\n",
            "Uploading: /content/drive/MyDrive/AluraDesafio/frames/video01_mp4_frame00:04.jpg...\n",
            "Uploading: /content/drive/MyDrive/AluraDesafio/frames/video01_mp4_frame00:05.jpg...\n",
            "Uploading: /content/drive/MyDrive/AluraDesafio/frames/video01_mp4_frame00:06.jpg...\n",
            "Uploading: /content/drive/MyDrive/AluraDesafio/frames/video01_mp4_frame00:07.jpg...\n",
            "Uploading: /content/drive/MyDrive/AluraDesafio/frames/video01_mp4_frame00:08.jpg...\n",
            "Uploading: /content/drive/MyDrive/AluraDesafio/frames/video01_mp4_frame00:09.jpg...\n",
            "Uploading: /content/drive/MyDrive/AluraDesafio/frames/video01_mp4_frame00:10.jpg...\n",
            "Uploading: /content/drive/MyDrive/AluraDesafio/frames/video01_mp4_frame00:11.jpg...\n",
            "Uploading: /content/drive/MyDrive/AluraDesafio/frames/video01_mp4_frame00:12.jpg...\n",
            "Uploading: /content/drive/MyDrive/AluraDesafio/frames/video01_mp4_frame00:13.jpg...\n",
            "Uploading: /content/drive/MyDrive/AluraDesafio/frames/video01_mp4_frame00:14.jpg...\n",
            "Uploading: /content/drive/MyDrive/AluraDesafio/frames/video01_mp4_frame00:15.jpg...\n",
            "Uploading: /content/drive/MyDrive/AluraDesafio/frames/video01_mp4_frame00:16.jpg...\n",
            "Uploading: /content/drive/MyDrive/AluraDesafio/frames/video01_mp4_frame00:17.jpg...\n",
            "Uploading: /content/drive/MyDrive/AluraDesafio/frames/video01_mp4_frame00:18.jpg...\n",
            "Uploading: /content/drive/MyDrive/AluraDesafio/frames/video01_mp4_frame00:19.jpg...\n",
            "Uploading: /content/drive/MyDrive/AluraDesafio/frames/video01_mp4_frame00:20.jpg...\n",
            "Uploading: /content/drive/MyDrive/AluraDesafio/frames/video01_mp4_frame00:21.jpg...\n",
            "Uploading: /content/drive/MyDrive/AluraDesafio/frames/video01_mp4_frame00:22.jpg...\n",
            "Uploading: /content/drive/MyDrive/AluraDesafio/frames/video01_mp4_frame00:23.jpg...\n",
            "Uploading: /content/drive/MyDrive/AluraDesafio/frames/video01_mp4_frame00:24.jpg...\n",
            "Uploading: /content/drive/MyDrive/AluraDesafio/frames/video01_mp4_frame00:25.jpg...\n",
            "Uploading: /content/drive/MyDrive/AluraDesafio/frames/video01_mp4_frame00:26.jpg...\n",
            "Uploading: /content/drive/MyDrive/AluraDesafio/frames/video01_mp4_frame00:27.jpg...\n",
            "Uploading: /content/drive/MyDrive/AluraDesafio/frames/video01_mp4_frame00:28.jpg...\n",
            "Uploading: /content/drive/MyDrive/AluraDesafio/frames/video01_mp4_frame00:29.jpg...\n",
            "Uploading: /content/drive/MyDrive/AluraDesafio/frames/video01_mp4_frame00:30.jpg...\n",
            "Uploading: /content/drive/MyDrive/AluraDesafio/frames/video01_mp4_frame00:31.jpg...\n",
            "Uploading: /content/drive/MyDrive/AluraDesafio/frames/video01_mp4_frame00:32.jpg...\n",
            "Uploading: /content/drive/MyDrive/AluraDesafio/frames/video01_mp4_frame00:33.jpg...\n",
            "Uploading: /content/drive/MyDrive/AluraDesafio/frames/video01_mp4_frame00:34.jpg...\n",
            "Uploading: /content/drive/MyDrive/AluraDesafio/frames/video01_mp4_frame00:35.jpg...\n",
            "Uploading: /content/drive/MyDrive/AluraDesafio/frames/video01_mp4_frame00:36.jpg...\n",
            "Uploading: /content/drive/MyDrive/AluraDesafio/frames/video01_mp4_frame00:37.jpg...\n",
            "Uploading: /content/drive/MyDrive/AluraDesafio/frames/video01_mp4_frame00:38.jpg...\n",
            "Uploading: /content/drive/MyDrive/AluraDesafio/frames/video01_mp4_frame00:39.jpg...\n",
            "Uploading: /content/drive/MyDrive/AluraDesafio/frames/video01_mp4_frame00:40.jpg...\n",
            "Uploading: /content/drive/MyDrive/AluraDesafio/frames/video01_mp4_frame00:41.jpg...\n",
            "Uploading: /content/drive/MyDrive/AluraDesafio/frames/video01_mp4_frame00:42.jpg...\n",
            "Uploading: /content/drive/MyDrive/AluraDesafio/frames/video01_mp4_frame00:43.jpg...\n",
            "Uploading: /content/drive/MyDrive/AluraDesafio/frames/video01_mp4_frame00:44.jpg...\n",
            "Uploading: /content/drive/MyDrive/AluraDesafio/frames/video01_mp4_frame00:45.jpg...\n",
            "Uploading: /content/drive/MyDrive/AluraDesafio/frames/video01_mp4_frame00:46.jpg...\n",
            "Uploading: /content/drive/MyDrive/AluraDesafio/frames/video01_mp4_frame00:47.jpg...\n",
            "Uploading: /content/drive/MyDrive/AluraDesafio/frames/video01_mp4_frame00:48.jpg...\n",
            "Uploading: /content/drive/MyDrive/AluraDesafio/frames/video01_mp4_frame00:49.jpg...\n",
            "Uploading: /content/drive/MyDrive/AluraDesafio/frames/video01_mp4_frame00:50.jpg...\n",
            "Uploading: /content/drive/MyDrive/AluraDesafio/frames/video01_mp4_frame00:51.jpg...\n",
            "Uploading: /content/drive/MyDrive/AluraDesafio/frames/video01_mp4_frame00:52.jpg...\n",
            "Uploading: /content/drive/MyDrive/AluraDesafio/frames/video01_mp4_frame00:53.jpg...\n",
            "Uploading: /content/drive/MyDrive/AluraDesafio/frames/video01_mp4_frame00:54.jpg...\n",
            "Uploading: /content/drive/MyDrive/AluraDesafio/frames/video01_mp4_frame00:55.jpg...\n",
            "Uploading: /content/drive/MyDrive/AluraDesafio/frames/video01_mp4_frame00:56.jpg...\n",
            "Uploading: /content/drive/MyDrive/AluraDesafio/frames/video01_mp4_frame00:57.jpg...\n",
            "Uploading: /content/drive/MyDrive/AluraDesafio/frames/video01_mp4_frame00:58.jpg...\n",
            "Uploading: /content/drive/MyDrive/AluraDesafio/frames/video01_mp4_frame00:59.jpg...\n",
            "Uploading: /content/drive/MyDrive/AluraDesafio/frames/video01_mp4_frame01:00.jpg...\n",
            "Completed file uploads!\n",
            "\n",
            "Uploaded: 61 files\n"
          ]
        }
      ]
    },
    {
      "cell_type": "markdown",
      "source": [
        "## Listando os arquivos que foram carregados"
      ],
      "metadata": {
        "id": "6I-CJSwFcqnp"
      }
    },
    {
      "cell_type": "code",
      "source": [
        "# List files uploaded in the API\n",
        "for n, f in zip(range(len(uploaded_files)), genai.list_files()):\n",
        "  print(f.uri)"
      ],
      "metadata": {
        "colab": {
          "base_uri": "https://localhost:8080/",
          "height": 0
        },
        "collapsed": true,
        "id": "8VWYHNw9WvVB",
        "outputId": "2891d4ff-f334-4760-f19b-c00f48e9f573"
      },
      "execution_count": 7,
      "outputs": [
        {
          "output_type": "stream",
          "name": "stdout",
          "text": [
            "https://generativelanguage.googleapis.com/v1beta/files/v8elkdcp0u6g\n",
            "https://generativelanguage.googleapis.com/v1beta/files/tlz8j29kvihy\n",
            "https://generativelanguage.googleapis.com/v1beta/files/dql4j6m1sgrf\n",
            "https://generativelanguage.googleapis.com/v1beta/files/3nr2ph046591\n",
            "https://generativelanguage.googleapis.com/v1beta/files/8yb13m4gn9yn\n",
            "https://generativelanguage.googleapis.com/v1beta/files/4e2q3zmd9jtr\n",
            "https://generativelanguage.googleapis.com/v1beta/files/p9nrhce6cmv4\n",
            "https://generativelanguage.googleapis.com/v1beta/files/ydbjyspylvn9\n",
            "https://generativelanguage.googleapis.com/v1beta/files/9ibbpc5igjb3\n",
            "https://generativelanguage.googleapis.com/v1beta/files/8qkaov63f6b3\n",
            "https://generativelanguage.googleapis.com/v1beta/files/19a3eyf5bsfv\n",
            "https://generativelanguage.googleapis.com/v1beta/files/g0wd6s44udyk\n",
            "https://generativelanguage.googleapis.com/v1beta/files/n0f3od29e25n\n",
            "https://generativelanguage.googleapis.com/v1beta/files/533l5s7lt5gu\n",
            "https://generativelanguage.googleapis.com/v1beta/files/d0r1cjjq6epk\n",
            "https://generativelanguage.googleapis.com/v1beta/files/218vx71p6uxg\n",
            "https://generativelanguage.googleapis.com/v1beta/files/bz352khd8k2u\n",
            "https://generativelanguage.googleapis.com/v1beta/files/fvo8axb2a54s\n",
            "https://generativelanguage.googleapis.com/v1beta/files/23cf49xva3lx\n",
            "https://generativelanguage.googleapis.com/v1beta/files/g7j0byn8bcq3\n",
            "https://generativelanguage.googleapis.com/v1beta/files/cfdwha4vyirl\n",
            "https://generativelanguage.googleapis.com/v1beta/files/amhg1721dor5\n",
            "https://generativelanguage.googleapis.com/v1beta/files/97itll1i99sp\n",
            "https://generativelanguage.googleapis.com/v1beta/files/lv9152wjkm16\n",
            "https://generativelanguage.googleapis.com/v1beta/files/x425xnkdyzhr\n",
            "https://generativelanguage.googleapis.com/v1beta/files/vqv0duzrxes5\n",
            "https://generativelanguage.googleapis.com/v1beta/files/eujcyceee4vq\n",
            "https://generativelanguage.googleapis.com/v1beta/files/rdtcmhjht8my\n",
            "https://generativelanguage.googleapis.com/v1beta/files/j50ophzduqxg\n",
            "https://generativelanguage.googleapis.com/v1beta/files/me1qszt3xxfb\n",
            "https://generativelanguage.googleapis.com/v1beta/files/dqg635vw8uzx\n",
            "https://generativelanguage.googleapis.com/v1beta/files/nbqg4si4llam\n",
            "https://generativelanguage.googleapis.com/v1beta/files/lp0mphcuoq5x\n",
            "https://generativelanguage.googleapis.com/v1beta/files/rvs0gikmheny\n",
            "https://generativelanguage.googleapis.com/v1beta/files/aesg35q27vyf\n",
            "https://generativelanguage.googleapis.com/v1beta/files/qmrtm4fk81jg\n",
            "https://generativelanguage.googleapis.com/v1beta/files/fkk5dcwz84nw\n",
            "https://generativelanguage.googleapis.com/v1beta/files/7exlh399g13a\n",
            "https://generativelanguage.googleapis.com/v1beta/files/378p723mtrht\n",
            "https://generativelanguage.googleapis.com/v1beta/files/6b44kblz4zyu\n",
            "https://generativelanguage.googleapis.com/v1beta/files/wfm1bcnoeg22\n",
            "https://generativelanguage.googleapis.com/v1beta/files/qg1l69efo2mq\n",
            "https://generativelanguage.googleapis.com/v1beta/files/ysuyo6c769o\n",
            "https://generativelanguage.googleapis.com/v1beta/files/255kjexs94v7\n",
            "https://generativelanguage.googleapis.com/v1beta/files/fdadq3k67dju\n",
            "https://generativelanguage.googleapis.com/v1beta/files/yauxgtxc5vf3\n",
            "https://generativelanguage.googleapis.com/v1beta/files/y71g3ar7vkvl\n",
            "https://generativelanguage.googleapis.com/v1beta/files/fbx3kmg5is6n\n",
            "https://generativelanguage.googleapis.com/v1beta/files/17ug3i9dxxei\n",
            "https://generativelanguage.googleapis.com/v1beta/files/2t44y3fhy926\n",
            "https://generativelanguage.googleapis.com/v1beta/files/jn0crb2eh77f\n",
            "https://generativelanguage.googleapis.com/v1beta/files/s8zfjb2iudb\n",
            "https://generativelanguage.googleapis.com/v1beta/files/8cgiwf8welig\n",
            "https://generativelanguage.googleapis.com/v1beta/files/7dvij5u0h36m\n",
            "https://generativelanguage.googleapis.com/v1beta/files/kuo5175yrpxu\n",
            "https://generativelanguage.googleapis.com/v1beta/files/z7ukebp6ea12\n",
            "https://generativelanguage.googleapis.com/v1beta/files/m1m2gtb5j8hy\n",
            "https://generativelanguage.googleapis.com/v1beta/files/vh0nnagq2mjh\n",
            "https://generativelanguage.googleapis.com/v1beta/files/e6ilomepwqel\n",
            "https://generativelanguage.googleapis.com/v1beta/files/3ffzxq6e27sf\n",
            "https://generativelanguage.googleapis.com/v1beta/files/rjy18hkdlzet\n"
          ]
        }
      ]
    },
    {
      "cell_type": "markdown",
      "source": [
        "## Configuração do modelo Gemini 1.5 Pro."
      ],
      "metadata": {
        "id": "OSaTrdvNc2Ax"
      }
    },
    {
      "cell_type": "code",
      "source": [
        "# Set the model to Gemini 1.5 Pro.\n",
        "generation_config = {\n",
        "  \"temperature\": 0.5,\n",
        "  \"top_p\": 0.95,\n",
        "  \"top_k\": 0,\n",
        "  \"max_output_tokens\": 8192,\n",
        "}\n",
        "\n",
        "safety_settings = [\n",
        "  {\n",
        "    \"category\": \"HARM_CATEGORY_HARASSMENT\",\n",
        "    \"threshold\": \"BLOCK_NONE\"\n",
        "  },\n",
        "  {\n",
        "    \"category\": \"HARM_CATEGORY_HATE_SPEECH\",\n",
        "    \"threshold\": \"BLOCK_NONE\"\n",
        "  },\n",
        "  {\n",
        "    \"category\": \"HARM_CATEGORY_SEXUALLY_EXPLICIT\",\n",
        "    \"threshold\": \"BLOCK_NONE\"\n",
        "  },\n",
        "  {\n",
        "    \"category\": \"HARM_CATEGORY_DANGEROUS_CONTENT\",\n",
        "    \"threshold\": \"BLOCK_NONE\"\n",
        "  },\n",
        "]\n",
        "\n",
        "model = genai.GenerativeModel(model_name=\"gemini-1.5-pro-latest\",\n",
        "                              generation_config=generation_config,\n",
        "                              safety_settings=safety_settings)"
      ],
      "metadata": {
        "id": "mYgz7xU9hv3-"
      },
      "execution_count": 8,
      "outputs": []
    },
    {
      "cell_type": "markdown",
      "source": [
        "## Criando o prompt"
      ],
      "metadata": {
        "id": "wAgAli4JeRpC"
      }
    },
    {
      "cell_type": "markdown",
      "source": [
        "Aqui o Gemini acertou quase tudo praticamente, errando apenas 3 coisas, os espantalhos que ele diz ser outros dois personagens, mas pensando bem, não acho que está totalmente errado nesta parte, já que da para \"conversar\" com o espantalho (ele diz quantos corvos espantou). O outro erro foi ele citar que tem silos vermelhos (provavelmente seria as geléias que o personagem coleta). E também tem o erro que ele cismou, que é outra cama que ele fica dizendo que é um berço, nos meus outros testes tentei colocar no prompt que não tinha berço, mas ele colocava do mesmo jeito."
      ],
      "metadata": {
        "id": "4JAt4dGMebZR"
      }
    },
    {
      "cell_type": "code",
      "source": [
        "# Create the prompt.\n",
        "prompt = \"Descreva o video. Faça o texto com quebra de linha\"\n",
        "\n",
        "\n",
        "# Make GenerateContent request with the structure described above.\n",
        "def make_request(prompt, files):\n",
        "  request = [prompt]\n",
        "  for file in files:\n",
        "    request.append(file.timestamp)\n",
        "    request.append(file.response)\n",
        "  return request\n",
        "\n",
        "# Make the LLM request.\n",
        "request = make_request(prompt, uploaded_files)\n",
        "response = model.generate_content(request,\n",
        "                                  request_options={\"timeout\": 600})\n",
        "print(response.text)"
      ],
      "metadata": {
        "colab": {
          "base_uri": "https://localhost:8080/",
          "height": 315
        },
        "collapsed": true,
        "id": "72AClslKW0RB",
        "outputId": "094fdc77-d48a-44c9-c420-215e9c87c465"
      },
      "execution_count": 9,
      "outputs": [
        {
          "output_type": "stream",
          "name": "stdout",
          "text": [
            "O vídeo começa com uma tela preta com a mensagem \"Carregando...\" em um pergaminho amarelo.\n",
            "\n",
            "Em seguida, o jogo Stardew Valley é carregado, mostrando o interior de uma casa. Um personagem com chapéu de palha e roupa azul sai do quarto e caminha pela casa.\n",
            "\n",
            "O jogador abre o inventário e passa por suas ferramentas: vara de fibra de vidro, espada de obsidiana, picareta de aço, enxada, machado de cobre, vara de irídio e regador.\n",
            "\n",
            "O personagem sai da casa e entra em sua fazenda. A fazenda tem um celeiro, um galinheiro, uma horta cercada, árvores, um lago e uma área em construção.\n",
            "\n",
            "Dois outros personagens, um com chapéu preto e outro com chapéu de palha, estão na horta. O jogador se junta a eles.\n",
            "\n",
            "O jogador sai da horta e caminha em direção a uma fileira de silos vermelhos. Ele passa por uma árvore rosa florida e chega a uma área em construção próxima a um penhasco.\n",
            "\n",
            "O jogador coloca dois silos na área em construção, totalizando dez silos. Em seguida, ele retorna à casa, passando novamente pela horta e pelos outros personagens.\n",
            "\n",
            "Dentro da casa, o jogador caminha pelo cômodo e o vídeo termina com o personagem parado perto do berço.\n",
            "\n"
          ]
        }
      ]
    },
    {
      "cell_type": "markdown",
      "source": [
        "**Aqui eu peço para ele descrever dentro da casa. O Gemini acerta tudo, mas continuando citando o berço**"
      ],
      "metadata": {
        "id": "Bl-1uV31guuQ"
      }
    },
    {
      "cell_type": "code",
      "source": [
        "# Create the prompt.\n",
        "prompt = \"Como é o ambiente dentro da casa. Faça quebra de linha.\"\n",
        "\n",
        "\n",
        "# Make GenerateContent request with the structure described above.\n",
        "def make_request(prompt, files):\n",
        "  request = [prompt]\n",
        "  for file in files:\n",
        "    request.append(file.timestamp)\n",
        "    request.append(file.response)\n",
        "  return request\n",
        "\n",
        "# Make the LLM request.\n",
        "request = make_request(prompt, uploaded_files)\n",
        "response = model.generate_content(request,\n",
        "                                  request_options={\"timeout\": 600})\n",
        "print(response.text)"
      ],
      "metadata": {
        "colab": {
          "base_uri": "https://localhost:8080/",
          "height": 141
        },
        "collapsed": true,
        "id": "ceY78XU3ipqu",
        "outputId": "12caf40c-36ce-42c8-e3f0-a1eca4a5f723"
      },
      "execution_count": 16,
      "outputs": [
        {
          "output_type": "stream",
          "name": "stdout",
          "text": [
            "A casa é dividida em dois ambientes:\n",
            "\n",
            "- À esquerda, uma cozinha com piso quadriculado em preto e branco, armários, pia, geladeira, fogão e lixeira. Há também uma mesa de jantar com quatro cadeiras e um vaso de flores. Duas plantas enfeitam o ambiente.\n",
            "\n",
            "- À direita, um quarto com piso rosa claro, uma cama de casal, um tapete marrom, uma lareira, uma televisão, um berço, uma cômoda e um urso de pelúcia azul. Duas pinturas decoram as paredes.\n",
            "\n"
          ]
        }
      ]
    },
    {
      "cell_type": "markdown",
      "source": [
        "**Agora eu peço para ele descrever a plantação. Ele acerta tudo excepcionalmente, aqui ele até acerta os espantalhos.**"
      ],
      "metadata": {
        "id": "2B_ost5BiGZH"
      }
    },
    {
      "cell_type": "code",
      "source": [
        "# Create the prompt.\n",
        "prompt = \"Descreva a plantação. Faça o texto com quebra de linha\"\n",
        "\n",
        "\n",
        "# Make GenerateContent request with the structure described above.\n",
        "def make_request(prompt, files):\n",
        "  request = [prompt]\n",
        "  for file in files:\n",
        "    request.append(file.timestamp)\n",
        "    request.append(file.response)\n",
        "  return request\n",
        "\n",
        "# Make the LLM request.\n",
        "request = make_request(prompt, uploaded_files)\n",
        "response = model.generate_content(request,\n",
        "                                  request_options={\"timeout\": 600})\n",
        "print(response.text)"
      ],
      "metadata": {
        "colab": {
          "base_uri": "https://localhost:8080/",
          "height": 208
        },
        "collapsed": true,
        "id": "uOi6VhvGjhxG",
        "outputId": "d625a764-c98e-482d-f993-2822cd5db070"
      },
      "execution_count": 17,
      "outputs": [
        {
          "output_type": "stream",
          "name": "stdout",
          "text": [
            "A plantação é cercada por uma cerca de madeira escura.\n",
            "Ela é retangular e está localizada próxima à casa do jogador.\n",
            "Há um espantalho no canto superior esquerdo da plantação e outro no canto inferior direito.\n",
            "A plantação parece estar em bom estado, com terra arada e plantas saudáveis crescendo.\n",
            "Há uma árvore verde alta no canto inferior esquerdo da plantação e uma árvore rosa florida no canto superior esquerdo.\n",
            "Há um pequeno lago no canto inferior direito da plantação.\n",
            "Há um caminho de terra que leva da casa do jogador até a plantação.\n",
            "Há várias árvores e arbustos ao redor da plantação.\n",
            "No canto superior esquerdo da tela, há uma área com vários barris de madeira.\n",
            "No canto inferior esquerdo da tela, há uma área com uma construção inacabada.\n",
            "No canto inferior direito da tela, há uma área com várias caixas de madeira.\n"
          ]
        }
      ]
    },
    {
      "cell_type": "markdown",
      "source": [
        "**Aqui eu peço para ele tentar acertar o que o personagem coleta no jarro/barril de conserva. No prompt tem uma dica por causa que nos testes que fiz, o Gemini sempre errava, mas com a dica ele acerta.**"
      ],
      "metadata": {
        "id": "300EdHbFigKm"
      }
    },
    {
      "cell_type": "code",
      "source": [
        "# Create the prompt.\n",
        "prompt = \"O que ele coleta no jarro de conserva? Dica: é geleia. Faça o texto com quebra de linha\"\n",
        "\n",
        "\n",
        "# Make GenerateContent request with the structure described above.\n",
        "def make_request(prompt, files):\n",
        "  request = [prompt]\n",
        "  for file in files:\n",
        "    request.append(file.timestamp)\n",
        "    request.append(file.response)\n",
        "  return request\n",
        "\n",
        "# Make the LLM request.\n",
        "request = make_request(prompt, uploaded_files)\n",
        "response = model.generate_content(request,\n",
        "                                  request_options={\"timeout\": 600})\n",
        "print(response.text)"
      ],
      "metadata": {
        "colab": {
          "base_uri": "https://localhost:8080/",
          "height": 52
        },
        "outputId": "d5194bd2-7f39-4494-fdfd-e1b3789d2f0c",
        "collapsed": true,
        "id": "Obsj8tncMsXE"
      },
      "execution_count": 12,
      "outputs": [
        {
          "output_type": "stream",
          "name": "stdout",
          "text": [
            "Ele coleta **Geleia de Oxicoco** no jarro de conserva. \n",
            "\n"
          ]
        }
      ]
    },
    {
      "cell_type": "markdown",
      "source": [
        "## Agora eu irei deletar os frames que fiz upload para a API e fazer outro teste."
      ],
      "metadata": {
        "id": "1ie5lcA0i7JP"
      }
    },
    {
      "cell_type": "code",
      "source": [
        "print(f'Deleting {len(uploaded_files)} images. This might take a bit...')\n",
        "for file in uploaded_files:\n",
        "  genai.delete_file(file.response.name)\n",
        "  print(f'Deleted {file.file_path} at URI {file.response.uri}')\n",
        "print(f\"Completed deleting files!\\n\\nDeleted: {len(uploaded_files)} files\")"
      ],
      "metadata": {
        "colab": {
          "base_uri": "https://localhost:8080/",
          "height": 0
        },
        "collapsed": true,
        "id": "FYZli_NQVJgL",
        "outputId": "16e0e654-4bf5-4c4e-b6e4-c77c8599762c"
      },
      "execution_count": 18,
      "outputs": [
        {
          "output_type": "stream",
          "name": "stdout",
          "text": [
            "Deleting 61 images. This might take a bit...\n",
            "Deleted /content/drive/MyDrive/AluraDesafio/frames/video01_mp4_frame00:00.jpg at URI https://generativelanguage.googleapis.com/v1beta/files/rjy18hkdlzet\n",
            "Deleted /content/drive/MyDrive/AluraDesafio/frames/video01_mp4_frame00:01.jpg at URI https://generativelanguage.googleapis.com/v1beta/files/3ffzxq6e27sf\n",
            "Deleted /content/drive/MyDrive/AluraDesafio/frames/video01_mp4_frame00:02.jpg at URI https://generativelanguage.googleapis.com/v1beta/files/e6ilomepwqel\n",
            "Deleted /content/drive/MyDrive/AluraDesafio/frames/video01_mp4_frame00:03.jpg at URI https://generativelanguage.googleapis.com/v1beta/files/vh0nnagq2mjh\n",
            "Deleted /content/drive/MyDrive/AluraDesafio/frames/video01_mp4_frame00:04.jpg at URI https://generativelanguage.googleapis.com/v1beta/files/m1m2gtb5j8hy\n",
            "Deleted /content/drive/MyDrive/AluraDesafio/frames/video01_mp4_frame00:05.jpg at URI https://generativelanguage.googleapis.com/v1beta/files/z7ukebp6ea12\n",
            "Deleted /content/drive/MyDrive/AluraDesafio/frames/video01_mp4_frame00:06.jpg at URI https://generativelanguage.googleapis.com/v1beta/files/kuo5175yrpxu\n",
            "Deleted /content/drive/MyDrive/AluraDesafio/frames/video01_mp4_frame00:07.jpg at URI https://generativelanguage.googleapis.com/v1beta/files/7dvij5u0h36m\n",
            "Deleted /content/drive/MyDrive/AluraDesafio/frames/video01_mp4_frame00:08.jpg at URI https://generativelanguage.googleapis.com/v1beta/files/8cgiwf8welig\n",
            "Deleted /content/drive/MyDrive/AluraDesafio/frames/video01_mp4_frame00:09.jpg at URI https://generativelanguage.googleapis.com/v1beta/files/s8zfjb2iudb\n",
            "Deleted /content/drive/MyDrive/AluraDesafio/frames/video01_mp4_frame00:10.jpg at URI https://generativelanguage.googleapis.com/v1beta/files/jn0crb2eh77f\n",
            "Deleted /content/drive/MyDrive/AluraDesafio/frames/video01_mp4_frame00:11.jpg at URI https://generativelanguage.googleapis.com/v1beta/files/2t44y3fhy926\n",
            "Deleted /content/drive/MyDrive/AluraDesafio/frames/video01_mp4_frame00:12.jpg at URI https://generativelanguage.googleapis.com/v1beta/files/17ug3i9dxxei\n",
            "Deleted /content/drive/MyDrive/AluraDesafio/frames/video01_mp4_frame00:13.jpg at URI https://generativelanguage.googleapis.com/v1beta/files/fbx3kmg5is6n\n",
            "Deleted /content/drive/MyDrive/AluraDesafio/frames/video01_mp4_frame00:14.jpg at URI https://generativelanguage.googleapis.com/v1beta/files/y71g3ar7vkvl\n",
            "Deleted /content/drive/MyDrive/AluraDesafio/frames/video01_mp4_frame00:15.jpg at URI https://generativelanguage.googleapis.com/v1beta/files/yauxgtxc5vf3\n",
            "Deleted /content/drive/MyDrive/AluraDesafio/frames/video01_mp4_frame00:16.jpg at URI https://generativelanguage.googleapis.com/v1beta/files/fdadq3k67dju\n",
            "Deleted /content/drive/MyDrive/AluraDesafio/frames/video01_mp4_frame00:17.jpg at URI https://generativelanguage.googleapis.com/v1beta/files/255kjexs94v7\n",
            "Deleted /content/drive/MyDrive/AluraDesafio/frames/video01_mp4_frame00:18.jpg at URI https://generativelanguage.googleapis.com/v1beta/files/ysuyo6c769o\n",
            "Deleted /content/drive/MyDrive/AluraDesafio/frames/video01_mp4_frame00:19.jpg at URI https://generativelanguage.googleapis.com/v1beta/files/qg1l69efo2mq\n",
            "Deleted /content/drive/MyDrive/AluraDesafio/frames/video01_mp4_frame00:20.jpg at URI https://generativelanguage.googleapis.com/v1beta/files/wfm1bcnoeg22\n",
            "Deleted /content/drive/MyDrive/AluraDesafio/frames/video01_mp4_frame00:21.jpg at URI https://generativelanguage.googleapis.com/v1beta/files/6b44kblz4zyu\n",
            "Deleted /content/drive/MyDrive/AluraDesafio/frames/video01_mp4_frame00:22.jpg at URI https://generativelanguage.googleapis.com/v1beta/files/378p723mtrht\n",
            "Deleted /content/drive/MyDrive/AluraDesafio/frames/video01_mp4_frame00:23.jpg at URI https://generativelanguage.googleapis.com/v1beta/files/7exlh399g13a\n",
            "Deleted /content/drive/MyDrive/AluraDesafio/frames/video01_mp4_frame00:24.jpg at URI https://generativelanguage.googleapis.com/v1beta/files/fkk5dcwz84nw\n",
            "Deleted /content/drive/MyDrive/AluraDesafio/frames/video01_mp4_frame00:25.jpg at URI https://generativelanguage.googleapis.com/v1beta/files/qmrtm4fk81jg\n",
            "Deleted /content/drive/MyDrive/AluraDesafio/frames/video01_mp4_frame00:26.jpg at URI https://generativelanguage.googleapis.com/v1beta/files/aesg35q27vyf\n",
            "Deleted /content/drive/MyDrive/AluraDesafio/frames/video01_mp4_frame00:27.jpg at URI https://generativelanguage.googleapis.com/v1beta/files/rvs0gikmheny\n",
            "Deleted /content/drive/MyDrive/AluraDesafio/frames/video01_mp4_frame00:28.jpg at URI https://generativelanguage.googleapis.com/v1beta/files/lp0mphcuoq5x\n",
            "Deleted /content/drive/MyDrive/AluraDesafio/frames/video01_mp4_frame00:29.jpg at URI https://generativelanguage.googleapis.com/v1beta/files/nbqg4si4llam\n",
            "Deleted /content/drive/MyDrive/AluraDesafio/frames/video01_mp4_frame00:30.jpg at URI https://generativelanguage.googleapis.com/v1beta/files/dqg635vw8uzx\n",
            "Deleted /content/drive/MyDrive/AluraDesafio/frames/video01_mp4_frame00:31.jpg at URI https://generativelanguage.googleapis.com/v1beta/files/me1qszt3xxfb\n",
            "Deleted /content/drive/MyDrive/AluraDesafio/frames/video01_mp4_frame00:32.jpg at URI https://generativelanguage.googleapis.com/v1beta/files/j50ophzduqxg\n",
            "Deleted /content/drive/MyDrive/AluraDesafio/frames/video01_mp4_frame00:33.jpg at URI https://generativelanguage.googleapis.com/v1beta/files/rdtcmhjht8my\n",
            "Deleted /content/drive/MyDrive/AluraDesafio/frames/video01_mp4_frame00:34.jpg at URI https://generativelanguage.googleapis.com/v1beta/files/eujcyceee4vq\n",
            "Deleted /content/drive/MyDrive/AluraDesafio/frames/video01_mp4_frame00:35.jpg at URI https://generativelanguage.googleapis.com/v1beta/files/vqv0duzrxes5\n",
            "Deleted /content/drive/MyDrive/AluraDesafio/frames/video01_mp4_frame00:36.jpg at URI https://generativelanguage.googleapis.com/v1beta/files/x425xnkdyzhr\n",
            "Deleted /content/drive/MyDrive/AluraDesafio/frames/video01_mp4_frame00:37.jpg at URI https://generativelanguage.googleapis.com/v1beta/files/lv9152wjkm16\n",
            "Deleted /content/drive/MyDrive/AluraDesafio/frames/video01_mp4_frame00:38.jpg at URI https://generativelanguage.googleapis.com/v1beta/files/97itll1i99sp\n",
            "Deleted /content/drive/MyDrive/AluraDesafio/frames/video01_mp4_frame00:39.jpg at URI https://generativelanguage.googleapis.com/v1beta/files/amhg1721dor5\n",
            "Deleted /content/drive/MyDrive/AluraDesafio/frames/video01_mp4_frame00:40.jpg at URI https://generativelanguage.googleapis.com/v1beta/files/cfdwha4vyirl\n",
            "Deleted /content/drive/MyDrive/AluraDesafio/frames/video01_mp4_frame00:41.jpg at URI https://generativelanguage.googleapis.com/v1beta/files/g7j0byn8bcq3\n",
            "Deleted /content/drive/MyDrive/AluraDesafio/frames/video01_mp4_frame00:42.jpg at URI https://generativelanguage.googleapis.com/v1beta/files/23cf49xva3lx\n",
            "Deleted /content/drive/MyDrive/AluraDesafio/frames/video01_mp4_frame00:43.jpg at URI https://generativelanguage.googleapis.com/v1beta/files/fvo8axb2a54s\n",
            "Deleted /content/drive/MyDrive/AluraDesafio/frames/video01_mp4_frame00:44.jpg at URI https://generativelanguage.googleapis.com/v1beta/files/bz352khd8k2u\n",
            "Deleted /content/drive/MyDrive/AluraDesafio/frames/video01_mp4_frame00:45.jpg at URI https://generativelanguage.googleapis.com/v1beta/files/218vx71p6uxg\n",
            "Deleted /content/drive/MyDrive/AluraDesafio/frames/video01_mp4_frame00:46.jpg at URI https://generativelanguage.googleapis.com/v1beta/files/d0r1cjjq6epk\n",
            "Deleted /content/drive/MyDrive/AluraDesafio/frames/video01_mp4_frame00:47.jpg at URI https://generativelanguage.googleapis.com/v1beta/files/533l5s7lt5gu\n",
            "Deleted /content/drive/MyDrive/AluraDesafio/frames/video01_mp4_frame00:48.jpg at URI https://generativelanguage.googleapis.com/v1beta/files/n0f3od29e25n\n",
            "Deleted /content/drive/MyDrive/AluraDesafio/frames/video01_mp4_frame00:49.jpg at URI https://generativelanguage.googleapis.com/v1beta/files/g0wd6s44udyk\n",
            "Deleted /content/drive/MyDrive/AluraDesafio/frames/video01_mp4_frame00:50.jpg at URI https://generativelanguage.googleapis.com/v1beta/files/19a3eyf5bsfv\n",
            "Deleted /content/drive/MyDrive/AluraDesafio/frames/video01_mp4_frame00:51.jpg at URI https://generativelanguage.googleapis.com/v1beta/files/8qkaov63f6b3\n",
            "Deleted /content/drive/MyDrive/AluraDesafio/frames/video01_mp4_frame00:52.jpg at URI https://generativelanguage.googleapis.com/v1beta/files/9ibbpc5igjb3\n",
            "Deleted /content/drive/MyDrive/AluraDesafio/frames/video01_mp4_frame00:53.jpg at URI https://generativelanguage.googleapis.com/v1beta/files/ydbjyspylvn9\n",
            "Deleted /content/drive/MyDrive/AluraDesafio/frames/video01_mp4_frame00:54.jpg at URI https://generativelanguage.googleapis.com/v1beta/files/p9nrhce6cmv4\n",
            "Deleted /content/drive/MyDrive/AluraDesafio/frames/video01_mp4_frame00:55.jpg at URI https://generativelanguage.googleapis.com/v1beta/files/4e2q3zmd9jtr\n",
            "Deleted /content/drive/MyDrive/AluraDesafio/frames/video01_mp4_frame00:56.jpg at URI https://generativelanguage.googleapis.com/v1beta/files/8yb13m4gn9yn\n",
            "Deleted /content/drive/MyDrive/AluraDesafio/frames/video01_mp4_frame00:57.jpg at URI https://generativelanguage.googleapis.com/v1beta/files/3nr2ph046591\n",
            "Deleted /content/drive/MyDrive/AluraDesafio/frames/video01_mp4_frame00:58.jpg at URI https://generativelanguage.googleapis.com/v1beta/files/dql4j6m1sgrf\n",
            "Deleted /content/drive/MyDrive/AluraDesafio/frames/video01_mp4_frame00:59.jpg at URI https://generativelanguage.googleapis.com/v1beta/files/tlz8j29kvihy\n",
            "Deleted /content/drive/MyDrive/AluraDesafio/frames/video01_mp4_frame01:00.jpg at URI https://generativelanguage.googleapis.com/v1beta/files/v8elkdcp0u6g\n",
            "Completed deleting files!\n",
            "\n",
            "Deleted: 61 files\n"
          ]
        }
      ]
    },
    {
      "cell_type": "markdown",
      "source": [
        "## O outro teste começa aqui"
      ],
      "metadata": {
        "id": "bJb8ZqRgk9n-"
      }
    },
    {
      "cell_type": "markdown",
      "source": [
        "Mesma coisa de antes, guardando o video numa variável, extraindo e carregando os frames na API. Mas tem uma coisa diferente, este vídeo é o mesmo de antes, porém, quase não dá para entender o que está acontecendo. O [vídeo](https://drive.google.com/file/d/1XB4Tlm-fft3IEvlD8QY_pnftATaFNy9c/view?usp=drive_link). Um dos [frames](https://drive.google.com/file/d/15Be4OOdg-WLm2qGoREvghDkI1gHz8ejM/view?usp=drive_link) que o Gemini salvou"
      ],
      "metadata": {
        "id": "S03XwiapjH_A"
      }
    },
    {
      "cell_type": "code",
      "source": [
        "video_file_name = \"/content/drive/MyDrive/AluraDesafio/video02.mp4\""
      ],
      "metadata": {
        "id": "zRgeOXjxVNmL"
      },
      "execution_count": 19,
      "outputs": []
    },
    {
      "cell_type": "code",
      "source": [
        "FRAME_EXTRACTION_DIRECTORY = \"/content/drive/MyDrive/AluraDesafio/frames\"\n",
        "FRAME_PREFIX = \"_frame\"\n",
        "def create_frame_output_dir(output_dir):\n",
        "  if not os.path.exists(output_dir):\n",
        "    os.makedirs(output_dir)\n",
        "  else:\n",
        "    shutil.rmtree(output_dir)\n",
        "    os.makedirs(output_dir)\n",
        "\n",
        "def extract_frame_from_video(video_file_path):\n",
        "  print(f\"Extracting {video_file_path} at 1 frame per second. This might take a bit...\")\n",
        "  create_frame_output_dir(FRAME_EXTRACTION_DIRECTORY)\n",
        "  vidcap = cv2.VideoCapture(video_file_path)\n",
        "  fps = vidcap.get(cv2.CAP_PROP_FPS)\n",
        "  frame_duration = 1 / fps  # Time interval between frames (in seconds)\n",
        "  output_file_prefix = os.path.basename(video_file_path).replace('.', '_')\n",
        "  frame_count = 0\n",
        "  count = 0\n",
        "  while vidcap.isOpened():\n",
        "      success, frame = vidcap.read()\n",
        "      if not success: # End of video\n",
        "          break\n",
        "      if int(count / fps) == frame_count: # Extract a frame every second\n",
        "          min = frame_count // 60\n",
        "          sec = frame_count % 60\n",
        "          time_string = f\"{min:02d}:{sec:02d}\"\n",
        "          image_name = f\"{output_file_prefix}{FRAME_PREFIX}{time_string}.jpg\"\n",
        "          output_filename = os.path.join(FRAME_EXTRACTION_DIRECTORY, image_name)\n",
        "          cv2.imwrite(output_filename, frame)\n",
        "          frame_count += 1\n",
        "      count += 1\n",
        "  vidcap.release() # Release the capture object\\n\",\n",
        "  print(f\"Completed video frame extraction!\\n\\nExtracted: {frame_count} frames\")\n",
        "\n",
        "extract_frame_from_video(video_file_name)"
      ],
      "metadata": {
        "colab": {
          "base_uri": "https://localhost:8080/"
        },
        "collapsed": true,
        "id": "yu4giWhwVtfC",
        "outputId": "1d3a86c1-3b44-4291-c826-ba44cb0d0c91"
      },
      "execution_count": 20,
      "outputs": [
        {
          "output_type": "stream",
          "name": "stdout",
          "text": [
            "Extracting /content/drive/MyDrive/AluraDesafio/video02.mp4 at 1 frame per second. This might take a bit...\n",
            "Completed video frame extraction!\n",
            "\n",
            "Extracted: 61 frames\n"
          ]
        }
      ]
    },
    {
      "cell_type": "code",
      "source": [
        "class File:\n",
        "  def __init__(self, file_path: str, display_name: str = None):\n",
        "    self.file_path = file_path\n",
        "    if display_name:\n",
        "      self.display_name = display_name\n",
        "    self.timestamp = get_timestamp(file_path)\n",
        "\n",
        "  def set_file_response(self, response):\n",
        "    self.response = response\n",
        "\n",
        "def get_timestamp(filename):\n",
        "  \"\"\"Extracts the frame count (as an integer) from a filename with the format\n",
        "     'output_file_prefix_frame00:00.jpg'.\n",
        "  \"\"\"\n",
        "  parts = filename.split(FRAME_PREFIX)\n",
        "  if len(parts) != 2:\n",
        "    return None  # Indicates the filename might be incorrectly formatted\n",
        "  return parts[1].split('.')[0]\n",
        "\n",
        "# Process each frame in the output directory\n",
        "files = os.listdir(FRAME_EXTRACTION_DIRECTORY)\n",
        "files = sorted(files)\n",
        "files_to_upload = []\n",
        "for file in files:\n",
        "  files_to_upload.append(\n",
        "      File(file_path=os.path.join(FRAME_EXTRACTION_DIRECTORY, file)))\n",
        "\n",
        "# Upload the files to the API\n",
        "# Set full_video to True to upload the whole video\n",
        "full_video = True\n",
        "\n",
        "uploaded_files = []\n",
        "print(f'Uploading {len(files_to_upload)} files. This might take a bit...')\n",
        "\n",
        "for file in files_to_upload if full_video else files_to_upload[40:50]:\n",
        "  print(f'Uploading: {file.file_path}...')\n",
        "  response = genai.upload_file(path=file.file_path)\n",
        "  file.set_file_response(response)\n",
        "  uploaded_files.append(file)\n",
        "\n",
        "print(f\"Completed file uploads!\\n\\nUploaded: {len(uploaded_files)} files\")"
      ],
      "metadata": {
        "colab": {
          "base_uri": "https://localhost:8080/"
        },
        "collapsed": true,
        "id": "o3HyMjuBVxlC",
        "outputId": "0e816ef5-2837-448c-8636-87e5db907f80"
      },
      "execution_count": 21,
      "outputs": [
        {
          "output_type": "stream",
          "name": "stdout",
          "text": [
            "Uploading 61 files. This might take a bit...\n",
            "Uploading: /content/drive/MyDrive/AluraDesafio/frames/video02_mp4_frame00:00.jpg...\n",
            "Uploading: /content/drive/MyDrive/AluraDesafio/frames/video02_mp4_frame00:01.jpg...\n",
            "Uploading: /content/drive/MyDrive/AluraDesafio/frames/video02_mp4_frame00:02.jpg...\n",
            "Uploading: /content/drive/MyDrive/AluraDesafio/frames/video02_mp4_frame00:03.jpg...\n",
            "Uploading: /content/drive/MyDrive/AluraDesafio/frames/video02_mp4_frame00:04.jpg...\n",
            "Uploading: /content/drive/MyDrive/AluraDesafio/frames/video02_mp4_frame00:05.jpg...\n",
            "Uploading: /content/drive/MyDrive/AluraDesafio/frames/video02_mp4_frame00:06.jpg...\n",
            "Uploading: /content/drive/MyDrive/AluraDesafio/frames/video02_mp4_frame00:07.jpg...\n",
            "Uploading: /content/drive/MyDrive/AluraDesafio/frames/video02_mp4_frame00:08.jpg...\n",
            "Uploading: /content/drive/MyDrive/AluraDesafio/frames/video02_mp4_frame00:09.jpg...\n",
            "Uploading: /content/drive/MyDrive/AluraDesafio/frames/video02_mp4_frame00:10.jpg...\n",
            "Uploading: /content/drive/MyDrive/AluraDesafio/frames/video02_mp4_frame00:11.jpg...\n",
            "Uploading: /content/drive/MyDrive/AluraDesafio/frames/video02_mp4_frame00:12.jpg...\n",
            "Uploading: /content/drive/MyDrive/AluraDesafio/frames/video02_mp4_frame00:13.jpg...\n",
            "Uploading: /content/drive/MyDrive/AluraDesafio/frames/video02_mp4_frame00:14.jpg...\n",
            "Uploading: /content/drive/MyDrive/AluraDesafio/frames/video02_mp4_frame00:15.jpg...\n",
            "Uploading: /content/drive/MyDrive/AluraDesafio/frames/video02_mp4_frame00:16.jpg...\n",
            "Uploading: /content/drive/MyDrive/AluraDesafio/frames/video02_mp4_frame00:17.jpg...\n",
            "Uploading: /content/drive/MyDrive/AluraDesafio/frames/video02_mp4_frame00:18.jpg...\n",
            "Uploading: /content/drive/MyDrive/AluraDesafio/frames/video02_mp4_frame00:19.jpg...\n",
            "Uploading: /content/drive/MyDrive/AluraDesafio/frames/video02_mp4_frame00:20.jpg...\n",
            "Uploading: /content/drive/MyDrive/AluraDesafio/frames/video02_mp4_frame00:21.jpg...\n",
            "Uploading: /content/drive/MyDrive/AluraDesafio/frames/video02_mp4_frame00:22.jpg...\n",
            "Uploading: /content/drive/MyDrive/AluraDesafio/frames/video02_mp4_frame00:23.jpg...\n",
            "Uploading: /content/drive/MyDrive/AluraDesafio/frames/video02_mp4_frame00:24.jpg...\n",
            "Uploading: /content/drive/MyDrive/AluraDesafio/frames/video02_mp4_frame00:25.jpg...\n",
            "Uploading: /content/drive/MyDrive/AluraDesafio/frames/video02_mp4_frame00:26.jpg...\n",
            "Uploading: /content/drive/MyDrive/AluraDesafio/frames/video02_mp4_frame00:27.jpg...\n",
            "Uploading: /content/drive/MyDrive/AluraDesafio/frames/video02_mp4_frame00:28.jpg...\n",
            "Uploading: /content/drive/MyDrive/AluraDesafio/frames/video02_mp4_frame00:29.jpg...\n",
            "Uploading: /content/drive/MyDrive/AluraDesafio/frames/video02_mp4_frame00:30.jpg...\n",
            "Uploading: /content/drive/MyDrive/AluraDesafio/frames/video02_mp4_frame00:31.jpg...\n",
            "Uploading: /content/drive/MyDrive/AluraDesafio/frames/video02_mp4_frame00:32.jpg...\n",
            "Uploading: /content/drive/MyDrive/AluraDesafio/frames/video02_mp4_frame00:33.jpg...\n",
            "Uploading: /content/drive/MyDrive/AluraDesafio/frames/video02_mp4_frame00:34.jpg...\n",
            "Uploading: /content/drive/MyDrive/AluraDesafio/frames/video02_mp4_frame00:35.jpg...\n",
            "Uploading: /content/drive/MyDrive/AluraDesafio/frames/video02_mp4_frame00:36.jpg...\n",
            "Uploading: /content/drive/MyDrive/AluraDesafio/frames/video02_mp4_frame00:37.jpg...\n",
            "Uploading: /content/drive/MyDrive/AluraDesafio/frames/video02_mp4_frame00:38.jpg...\n",
            "Uploading: /content/drive/MyDrive/AluraDesafio/frames/video02_mp4_frame00:39.jpg...\n",
            "Uploading: /content/drive/MyDrive/AluraDesafio/frames/video02_mp4_frame00:40.jpg...\n",
            "Uploading: /content/drive/MyDrive/AluraDesafio/frames/video02_mp4_frame00:41.jpg...\n",
            "Uploading: /content/drive/MyDrive/AluraDesafio/frames/video02_mp4_frame00:42.jpg...\n",
            "Uploading: /content/drive/MyDrive/AluraDesafio/frames/video02_mp4_frame00:43.jpg...\n",
            "Uploading: /content/drive/MyDrive/AluraDesafio/frames/video02_mp4_frame00:44.jpg...\n",
            "Uploading: /content/drive/MyDrive/AluraDesafio/frames/video02_mp4_frame00:45.jpg...\n",
            "Uploading: /content/drive/MyDrive/AluraDesafio/frames/video02_mp4_frame00:46.jpg...\n",
            "Uploading: /content/drive/MyDrive/AluraDesafio/frames/video02_mp4_frame00:47.jpg...\n",
            "Uploading: /content/drive/MyDrive/AluraDesafio/frames/video02_mp4_frame00:48.jpg...\n",
            "Uploading: /content/drive/MyDrive/AluraDesafio/frames/video02_mp4_frame00:49.jpg...\n",
            "Uploading: /content/drive/MyDrive/AluraDesafio/frames/video02_mp4_frame00:50.jpg...\n",
            "Uploading: /content/drive/MyDrive/AluraDesafio/frames/video02_mp4_frame00:51.jpg...\n",
            "Uploading: /content/drive/MyDrive/AluraDesafio/frames/video02_mp4_frame00:52.jpg...\n",
            "Uploading: /content/drive/MyDrive/AluraDesafio/frames/video02_mp4_frame00:53.jpg...\n",
            "Uploading: /content/drive/MyDrive/AluraDesafio/frames/video02_mp4_frame00:54.jpg...\n",
            "Uploading: /content/drive/MyDrive/AluraDesafio/frames/video02_mp4_frame00:55.jpg...\n",
            "Uploading: /content/drive/MyDrive/AluraDesafio/frames/video02_mp4_frame00:56.jpg...\n",
            "Uploading: /content/drive/MyDrive/AluraDesafio/frames/video02_mp4_frame00:57.jpg...\n",
            "Uploading: /content/drive/MyDrive/AluraDesafio/frames/video02_mp4_frame00:58.jpg...\n",
            "Uploading: /content/drive/MyDrive/AluraDesafio/frames/video02_mp4_frame00:59.jpg...\n",
            "Uploading: /content/drive/MyDrive/AluraDesafio/frames/video02_mp4_frame01:00.jpg...\n",
            "Completed file uploads!\n",
            "\n",
            "Uploaded: 61 files\n"
          ]
        }
      ]
    },
    {
      "cell_type": "markdown",
      "source": [
        "E aqui, chegando ao final do teste, foi onde eu realmente me surpreendi, o Gemini acertou tudo que esta acontecendo no vídeo, mesmo vídeo estando numa qualidade horrível."
      ],
      "metadata": {
        "id": "_oDtcrR8kTJ_"
      }
    },
    {
      "cell_type": "code",
      "source": [
        "# Create the prompt.\n",
        "prompt = \"Descreva o video. Faça o texto com quebra de linha\"\n",
        "\n",
        "\n",
        "# Make GenerateContent request with the structure described above.\n",
        "def make_request(prompt, files):\n",
        "  request = [prompt]\n",
        "  for file in files:\n",
        "    request.append(file.timestamp)\n",
        "    request.append(file.response)\n",
        "  return request\n",
        "\n",
        "# Make the LLM request.\n",
        "request = make_request(prompt, uploaded_files)\n",
        "response = model.generate_content(request,\n",
        "                                  request_options={\"timeout\": 600})\n",
        "print(response.text)"
      ],
      "metadata": {
        "colab": {
          "base_uri": "https://localhost:8080/",
          "height": 228
        },
        "collapsed": true,
        "id": "eKulcfFHWAlz",
        "outputId": "eb2910c3-49e9-4655-b9cd-6ce8c915b059"
      },
      "execution_count": 24,
      "outputs": [
        {
          "output_type": "stream",
          "name": "stdout",
          "text": [
            "O vídeo começa com uma tela de carregamento do jogo Stardew Valley.\n",
            "\n",
            "Em seguida, o jogo é iniciado e vemos o personagem principal, um fazendeiro, dentro de sua casa. O fazendeiro está em uma sala com piso quadriculado em preto e branco, uma mesa de jantar, uma cozinha e uma porta que leva a outra sala.\n",
            "\n",
            "O fazendeiro abre o menu de ferramentas e percorre as opções: espada de madeira, picareta de aço, enxada, machado de cobre, vara de brilho e regador.\n",
            "\n",
            "Em seguida, o fazendeiro sai de casa e vemos a fazenda vista de cima. A fazenda tem uma casa, um celeiro, um galinheiro, um lago e uma área para plantar. O fazendeiro caminha pela fazenda e observa as plantações.\n",
            "\n",
            "O fazendeiro continua caminhando pela fazenda, passando por árvores e cercas.\n",
            "\n",
            "O vídeo termina com o fazendeiro voltando para dentro de casa.\n"
          ]
        }
      ]
    }
  ]
}